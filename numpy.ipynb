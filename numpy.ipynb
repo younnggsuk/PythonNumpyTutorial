{
 "cells": [
  {
   "cell_type": "markdown",
   "metadata": {},
   "source": [
    "# Numpy\n",
    "Numpy는 파이썬의 과학 계산에 사용되는 핵심 라이브러리이다. Numpy는 고성능의 다차원 array object와 이를 이용한 다양한 기능을 제공한다.\n",
    "\n",
    "## Arrays\n",
    "Numpy의 array는 동일한 type을 가지는 값들의 grid이며, 음이 아닌 정수의 tuple로 index가 매겨진다. rank는 array의 차원 수를 의미하며, shape는 array의 각 차원의 size를 정수 tuple로 나타낸다.\n",
    "\n",
    "Numpy array는 파이썬의 list를 중첩해 초기화할 수 있으며, `[]`를 통해 각 element에 접근할 수 있다."
   ]
  },
  {
   "cell_type": "code",
   "execution_count": 1,
   "metadata": {},
   "outputs": [
    {
     "name": "stdout",
     "output_type": "stream",
     "text": [
      "[1 2 3]\n",
      "(3,)\n",
      "<class 'numpy.ndarray'>\n",
      "1 2 3\n",
      "[[1 2 3]\n",
      " [4 5 6]]\n",
      "(2, 3)\n",
      "1 2 4\n"
     ]
    }
   ],
   "source": [
    "import numpy as np\n",
    "\n",
    "a = np.array([1, 2, 3])\n",
    "print(a)\n",
    "print(a.shape)\n",
    "print(type(a))\n",
    "\n",
    "print(a[0], a[1], a[2])\n",
    "a[0] = 5\n",
    "\n",
    "b = np.array([[1, 2, 3], [4, 5, 6]])\n",
    "print(b)\n",
    "print(b.shape)\n",
    "print(b[0, 0], b[0, 1], b[1, 0])"
   ]
  },
  {
   "cell_type": "markdown",
   "metadata": {},
   "source": [
    "Numpy는 다양한 array 생성 함수를 제공한다."
   ]
  },
  {
   "cell_type": "code",
   "execution_count": 2,
   "metadata": {},
   "outputs": [
    {
     "name": "stdout",
     "output_type": "stream",
     "text": [
      "[[0. 0.]\n",
      " [0. 0.]]\n",
      "[[1. 1.]]\n",
      "[[7. 7.]\n",
      " [7. 7.]]\n",
      "[[1. 0.]\n",
      " [0. 1.]]\n",
      "[[0.19831498 0.50756308]\n",
      " [0.00628049 0.73860702]]\n"
     ]
    }
   ],
   "source": [
    "import numpy as np\n",
    "\n",
    "a = np.zeros((2, 2))\n",
    "print(a)\n",
    "\n",
    "b = np.ones((1, 2))\n",
    "print(b)\n",
    "\n",
    "c = np.full((2, 2), 7.)\n",
    "print(c)\n",
    "\n",
    "d = np.eye(2)\n",
    "print(d)\n",
    "\n",
    "e = np.random.random((2, 2))\n",
    "print(e)"
   ]
  },
  {
   "cell_type": "markdown",
   "metadata": {},
   "source": [
    "Array를 다루는 여러 함수들은 [문서](http://docs.scipy.org/doc/numpy/reference/routines.array-manipulation.html)를 참고하자."
   ]
  },
  {
   "cell_type": "markdown",
   "metadata": {},
   "source": [
    "## Array indexing\n",
    "\n",
    "Numpy는 array를 index하는 다양한 방법을 제공한다.\n",
    "\n",
    "**Slicing:** 파이썬의 list처럼 numpy array도 slicing을 할 수 있다. array는 다차원을 가질 수 있으므로, 각 차원에 대해 slicing을 해주어야 한다."
   ]
  },
  {
   "cell_type": "code",
   "execution_count": 3,
   "metadata": {},
   "outputs": [
    {
     "name": "stdout",
     "output_type": "stream",
     "text": [
      "[[ 1  2  3  4]\n",
      " [ 5  6  7  8]\n",
      " [ 9 10 11 12]]\n",
      "\n",
      "[[2 3]\n",
      " [6 7]]\n",
      "\n",
      "2\n",
      "[[77  3]\n",
      " [ 6  7]]\n"
     ]
    }
   ],
   "source": [
    "import numpy as np\n",
    "\n",
    "a = np.array([[1, 2, 3, 4], [5, 6, 7, 8], [9, 10, 11, 12]])\n",
    "print(a)\n",
    "print('')\n",
    "\n",
    "# rows : 0, 1\n",
    "# cols : 1, 2\n",
    "b = a[:2, 1:3]\n",
    "print(b)\n",
    "print('')\n",
    "\n",
    "print(a[0, 1])\n",
    "b[0, 0] = 77\n",
    "print(b)"
   ]
  },
  {
   "cell_type": "markdown",
   "metadata": {},
   "source": [
    "Integer indexing과 slice indexing을 섞어서 사용할 수도 있다.\n",
    "하지만 이렇게 하면, original array보다 낮은 rank의 array가 얻어진다."
   ]
  },
  {
   "cell_type": "code",
   "execution_count": 4,
   "metadata": {},
   "outputs": [
    {
     "name": "stdout",
     "output_type": "stream",
     "text": [
      "[[ 1  2  3  4]\n",
      " [ 5  6  7  8]\n",
      " [ 9 10 11 12]]\n",
      "(3, 4)\n",
      "\n",
      "[5 6 7 8]\n",
      "(4,)\n",
      "\n",
      "[[5 6 7 8]]\n",
      "(1, 4)\n",
      "\n",
      "[ 2  6 10]\n",
      "(3,)\n",
      "\n",
      "[[ 2]\n",
      " [ 6]\n",
      " [10]]\n",
      "(3, 1)\n"
     ]
    }
   ],
   "source": [
    "import numpy as np\n",
    "\n",
    "a = np.array([[1, 2, 3, 4], [5, 6, 7, 8], [9, 10, 11, 12]])\n",
    "print(a)\n",
    "print(a.shape)\n",
    "print('')\n",
    "\n",
    "# rank가 낮아짐\n",
    "row_r1 = a[1, :]\n",
    "print(row_r1)\n",
    "print(row_r1.shape)\n",
    "print('')\n",
    "\n",
    "# rank가 유지됨\n",
    "row_r2 = a[1:2, :]\n",
    "print(row_r2)\n",
    "print(row_r2.shape)\n",
    "print('')\n",
    "\n",
    "# rank 낮아짐\n",
    "col_r1 = a[:, 1]\n",
    "print(col_r1)\n",
    "print(col_r1.shape)\n",
    "print('')\n",
    "\n",
    "# rank가 유지됨\n",
    "col_r2 = a[:, 1:2]\n",
    "print(col_r2)\n",
    "print(col_r2.shape)"
   ]
  },
  {
   "cell_type": "markdown",
   "metadata": {},
   "source": [
    "**Integer array indexing:** slicing을 사용한 numpy indexing은 항상 original array의 subarray가 되지만 integer array indexing을 사용하면 마음대로 새로운 array를 구성할 수 있다."
   ]
  },
  {
   "cell_type": "code",
   "execution_count": 5,
   "metadata": {},
   "outputs": [
    {
     "name": "stdout",
     "output_type": "stream",
     "text": [
      "[1 4 5]\n",
      "[1 4 5]\n",
      "[2 2]\n",
      "[2 2]\n"
     ]
    }
   ],
   "source": [
    "import numpy as np\n",
    "\n",
    "a = np.array([[1, 2], [3, 4], [5, 6]])\n",
    "\n",
    "# rows : 0, 1, 2\n",
    "# cols : 0, 1, 0\n",
    "# 따라서, a[0, 0], a[1, 1], a[2, 0]으로 구성된다.\n",
    "print(a[[0, 1, 2], [0, 1, 0]])\n",
    "# 위와 같은 결과\n",
    "print(np.array([a[0, 0], a[1, 1], a[2, 0]]))\n",
    "\n",
    "# rows : 0, 0\n",
    "# cols : 1, 1\n",
    "# 따라서, a[0,1], a[0, 1]으로 구성된다.\n",
    "print(a[[0, 0], [1, 1]])\n",
    "# 위와 같은 결과\n",
    "print(np.array(a[[0, 0], [1, 1]]))"
   ]
  },
  {
   "cell_type": "markdown",
   "metadata": {},
   "source": [
    "integer array indexing을 이용한 한가지 유용한 trick은 다음과 같이 행렬의 각 행에서 element를 하나씩 선택하거나 변형하는 것이다."
   ]
  },
  {
   "cell_type": "code",
   "execution_count": 6,
   "metadata": {},
   "outputs": [
    {
     "name": "stdout",
     "output_type": "stream",
     "text": [
      "[[ 1  2  3]\n",
      " [ 4  5  6]\n",
      " [ 7  8  9]\n",
      " [10 11 12]]\n",
      "\n",
      "[ 1  6  7 11]\n",
      "\n",
      "[[11  2  3]\n",
      " [ 4  5 16]\n",
      " [17  8  9]\n",
      " [10 21 12]]\n"
     ]
    }
   ],
   "source": [
    "import numpy as np\n",
    "\n",
    "a = np.array([[1, 2, 3], [4, 5, 6], [7, 8, 9], [10, 11, 12]])\n",
    "print(a)\n",
    "print('')\n",
    "\n",
    "# 각 행에서 0, 2, 0, 1번째 index 값만 선택\n",
    "b = np.array([0, 2, 0, 1])\n",
    "print(a[np.arange(4), b])\n",
    "print('')\n",
    "\n",
    "# 각 행에서 0, 2, 0, 1번째 index 값에 10 더하기\n",
    "a[np.arange(4), b] += 10\n",
    "print(a)"
   ]
  },
  {
   "cell_type": "markdown",
   "metadata": {},
   "source": [
    "**Boolean array indexing:** Boolean array indexing은 array의 element를 마음대로 꺼낼 수 있게 해준다. 이는 어떠한 조건을 만족하는 element를 선택할 때 주로 사용된다."
   ]
  },
  {
   "cell_type": "code",
   "execution_count": 7,
   "metadata": {
    "scrolled": true
   },
   "outputs": [
    {
     "name": "stdout",
     "output_type": "stream",
     "text": [
      "[[False False]\n",
      " [ True  True]\n",
      " [ True  True]\n",
      " [ True  True]]\n",
      "\n",
      "[3 4 5 6 7 8]\n",
      "[3 4 5 6 7 8]\n"
     ]
    }
   ],
   "source": [
    "import numpy as np\n",
    "\n",
    "a = np.array([[1, 2], [3, 4], [5, 6], [7, 8]])\n",
    "\n",
    "# Boolean array 생성\n",
    "bool_idx = (a>2)\n",
    "print(bool_idx)\n",
    "print('')\n",
    "\n",
    "# Boolean array를 생성하지 않고 다음과 같이 바로 사용할 수도 있음\n",
    "print(a[bool_idx])\n",
    "print(a[a>2])"
   ]
  },
  {
   "cell_type": "markdown",
   "metadata": {},
   "source": [
    "Numpy array indexing에 대한 자세한 내용은 [문서](http://docs.scipy.org/doc/numpy/reference/arrays.indexing.html)를 참고하자."
   ]
  },
  {
   "cell_type": "markdown",
   "metadata": {},
   "source": [
    "## Datatypes\n",
    "\n",
    "모든 numpy array는 같은 type의 값을 가진다. Numpy는 다양한 numeric datatypes를 제공하며, 이를 통해 array를 생성할 수 있다. Numpy는 array가 생성될 때 전달된 값을 통해 datatype을 유추하지만, 인자를 통해 명시적으로 datatype을 지정하는 방법도 있다."
   ]
  },
  {
   "cell_type": "code",
   "execution_count": 8,
   "metadata": {},
   "outputs": [
    {
     "name": "stdout",
     "output_type": "stream",
     "text": [
      "[1 2] int64\n",
      "[1. 2.] float64\n",
      "[1. 2.] float64\n"
     ]
    }
   ],
   "source": [
    "import numpy as np\n",
    "\n",
    "# 전달된 값을 통해 datatype이 지정됨\n",
    "x = np.array([1, 2])\n",
    "print(x, x.dtype)\n",
    "x = np.array([1.0, 2.0])\n",
    "print(x, x.dtype)\n",
    "\n",
    "# 다음과 같이 인자로 지정할 수도 있음\n",
    "x = np.array([1, 2], dtype=np.float64)\n",
    "print(x, x.dtype)"
   ]
  },
  {
   "cell_type": "markdown",
   "metadata": {},
   "source": [
    "Datatype에 대한 자세한 내용은 [문서](https://docs.scipy.org/doc/numpy/reference/arrays.dtypes.html)를 참고하자."
   ]
  },
  {
   "cell_type": "markdown",
   "metadata": {},
   "source": [
    "## Array math\n",
    "\n",
    "기본적인 수학 함수들은 array에서 elementwise로 동작하며 overloading된 operator의 형태 또는 numpy module 함수 형태로 사용가능하다."
   ]
  },
  {
   "cell_type": "code",
   "execution_count": 9,
   "metadata": {},
   "outputs": [
    {
     "name": "stdout",
     "output_type": "stream",
     "text": [
      "[[ 6.  8.]\n",
      " [10. 12.]]\n",
      "[[ 6.  8.]\n",
      " [10. 12.]]\n",
      "\n",
      "[[-4. -4.]\n",
      " [-4. -4.]]\n",
      "[[-4. -4.]\n",
      " [-4. -4.]]\n",
      "\n",
      "[[ 5. 12.]\n",
      " [21. 32.]]\n",
      "[[ 5. 12.]\n",
      " [21. 32.]]\n",
      "\n",
      "[[0.2        0.33333333]\n",
      " [0.42857143 0.5       ]]\n",
      "[[0.2        0.33333333]\n",
      " [0.42857143 0.5       ]]\n",
      "\n",
      "[[1.         1.41421356]\n",
      " [1.73205081 2.        ]]\n"
     ]
    }
   ],
   "source": [
    "import numpy as np\n",
    "\n",
    "x = np.array([[1, 2], [3, 4]], dtype=np.float64)\n",
    "y = np.array([[5, 6], [7, 8]], dtype=np.float64)\n",
    "\n",
    "# Elementwise 덧셈\n",
    "print(x+y)\n",
    "print(np.add(x, y))\n",
    "print('')\n",
    "\n",
    "# Elementwise 뺄셈\n",
    "print(x-y)\n",
    "print(np.subtract(x, y))\n",
    "print('')\n",
    "\n",
    "# Elementwise 곱셈\n",
    "print(x*y)\n",
    "print(np.multiply(x, y))\n",
    "print('')\n",
    "\n",
    "# Elementwise 나눗셈\n",
    "print(x/y)\n",
    "print(np.divide(x, y))\n",
    "print('')\n",
    "\n",
    "# Elementwise 제곱근\n",
    "print(np.sqrt(x))"
   ]
  },
  {
   "cell_type": "markdown",
   "metadata": {},
   "source": [
    "Numpy에서 행렬과 벡터간의 곱셈(내적)은 `dot()`을 통해 수행할 수 있다. `dot()`은 numpy module 형태와 array object의 method 형태로 사용할 수 있다."
   ]
  },
  {
   "cell_type": "code",
   "execution_count": 10,
   "metadata": {},
   "outputs": [
    {
     "name": "stdout",
     "output_type": "stream",
     "text": [
      "219\n",
      "219\n",
      "\n",
      "[[19 22]\n",
      " [43 50]]\n",
      "[[19 22]\n",
      " [43 50]]\n",
      "\n",
      "[29 67]\n",
      "[29 67]\n"
     ]
    }
   ],
   "source": [
    "import numpy as np\n",
    "\n",
    "x = np.array([[1, 2], [3, 4]])\n",
    "y = np.array([[5, 6], [7, 8]])\n",
    "\n",
    "u = np.array([9, 10])\n",
    "v = np.array([11, 12])\n",
    "\n",
    "\n",
    "# Vector 내적\n",
    "print(np.dot(u, v))\n",
    "print(u.dot(v))\n",
    "print('')\n",
    "\n",
    "# Matrix 내적\n",
    "print(np.dot(x, y))\n",
    "print(x.dot(y))\n",
    "print('')\n",
    "\n",
    "# Matrix와 Vector의 내적\n",
    "print(np.dot(x, u))\n",
    "print(x.dot(u))"
   ]
  },
  {
   "cell_type": "markdown",
   "metadata": {},
   "source": [
    "Numpy에서 계산에 매우 유용한 함수중 하나는 `sum()`이다."
   ]
  },
  {
   "cell_type": "code",
   "execution_count": 11,
   "metadata": {},
   "outputs": [
    {
     "name": "stdout",
     "output_type": "stream",
     "text": [
      "21\n",
      "[ 9 12]\n",
      "[ 3  7 11]\n"
     ]
    }
   ],
   "source": [
    "import numpy as np\n",
    "\n",
    "x = np.array([[1, 2], [3, 4], [5, 6]])\n",
    "\n",
    "# 모든 원소 덧셈\n",
    "print(np.sum(x))\n",
    "# 각 열끼리의 덧셈 (0번째 축 기준 덧셈)\n",
    "print(np.sum(x, axis=0))\n",
    "# 각 행끼리의 덧셈 (1번째 축 기준 덧셈)\n",
    "print(np.sum(x, axis=1))"
   ]
  },
  {
   "cell_type": "markdown",
   "metadata": {},
   "source": [
    "Numpy의 수학함수들에 대한 자세한 내용은 [문서](https://docs.scipy.org/doc/numpy/reference/routines.math.html)를 참고하자."
   ]
  },
  {
   "cell_type": "markdown",
   "metadata": {},
   "source": [
    "Numpy에는 수학관련 함수 외에, array를 reshape하거나 array내의 데이터를 조작하는 함수들도 있다. 여기서는 간단한 예로, matrix의 transpose에 사용되는 `T`에 대해서 알아본다."
   ]
  },
  {
   "cell_type": "code",
   "execution_count": 12,
   "metadata": {
    "scrolled": true
   },
   "outputs": [
    {
     "name": "stdout",
     "output_type": "stream",
     "text": [
      "[[1 2 3]\n",
      " [4 5 6]]\n",
      "[[1 4]\n",
      " [2 5]\n",
      " [3 6]]\n",
      "\n",
      "[1 2 3]\n",
      "[1 2 3]\n"
     ]
    }
   ],
   "source": [
    "import numpy as np\n",
    "\n",
    "x = np.array([[1, 2, 3], [4, 5, 6]])\n",
    "print(x)\n",
    "print(x.T)\n",
    "print('')\n",
    "\n",
    "# rank가 1인 경우는 변화가 없다.\n",
    "v = np.array([1, 2, 3])\n",
    "print(v)\n",
    "print(v.T)"
   ]
  },
  {
   "cell_type": "markdown",
   "metadata": {},
   "source": [
    "Numpy의 array 조작 함수에 대한 자세한 내용은 [문서](http://docs.scipy.org/doc/numpy/reference/routines.array-manipulation.html)를 참고하자."
   ]
  },
  {
   "cell_type": "markdown",
   "metadata": {},
   "source": [
    "## Broadcasting\n",
    "Broadcasting은 다른 shape를 가진 array간의 산술 연산에 사용되는 유용한 방법이다.\n",
    "\n",
    "예를 들어, 상수 벡터를 행렬의 각 행으로 추가하고 싶을 때 다음과 같이 할 수 있다."
   ]
  },
  {
   "cell_type": "code",
   "execution_count": 13,
   "metadata": {},
   "outputs": [
    {
     "name": "stdout",
     "output_type": "stream",
     "text": [
      "y:\n",
      "[[ 1 77  3]\n",
      " [ 4  5  6]\n",
      " [ 7  8  9]\n",
      " [10 11 12]]\n",
      "\n",
      "y:\n",
      "[[ 2  2  4]\n",
      " [ 5  5  7]\n",
      " [ 8  8 10]\n",
      " [11 11 13]]\n"
     ]
    }
   ],
   "source": [
    "import numpy as np\n",
    "\n",
    "v = np.array([1, 0, 1])\n",
    "\n",
    "x = np.array([[1, 2, 3], [4, 5, 6], [7, 8, 9], [10, 11, 12]])\n",
    "\n",
    "# x와 같은 shape의 empty matrix 생성\n",
    "y = np.empty_like(x)\n",
    "\n",
    "print('y:')\n",
    "print(y)\n",
    "print('')\n",
    "\n",
    "for i in range(4):\n",
    "    y[i, :] = x[i, :] + v\n",
    "    \n",
    "print('y:')\n",
    "print(y)"
   ]
  },
  {
   "cell_type": "markdown",
   "metadata": {},
   "source": [
    "하지만, 행렬 x가 매우 클 경우 위와 같은 Python loop를 사용하면 매우 느릴 수 있다.\n",
    "\n",
    "여기서 수행한 연산을 자세히 살펴보면, 다음과 같이 v를 여러 겹 쌓은 후 x와 더해주는 방식으로 구현할 수 있다는 것을 알 수 있다."
   ]
  },
  {
   "cell_type": "code",
   "execution_count": 14,
   "metadata": {},
   "outputs": [
    {
     "name": "stdout",
     "output_type": "stream",
     "text": [
      "vv:\n",
      "[[1 0 1]\n",
      " [1 0 1]\n",
      " [1 0 1]\n",
      " [1 0 1]]\n",
      "\n",
      "y:\n",
      "[[ 2  2  4]\n",
      " [ 5  5  7]\n",
      " [ 8  8 10]\n",
      " [11 11 13]]\n"
     ]
    }
   ],
   "source": [
    "import numpy as np\n",
    "\n",
    "x = np.array([[1, 2, 3], [4, 5, 6], [7, 8, 9], [10, 11, 12]])\n",
    "\n",
    "v = np.array([1, 0, 1])\n",
    "vv = np.tile(v, (4, 1))\n",
    "print('vv:')\n",
    "print(vv)\n",
    "print('')\n",
    "\n",
    "y = x + vv\n",
    "print('y:')\n",
    "print(y)"
   ]
  },
  {
   "cell_type": "markdown",
   "metadata": {},
   "source": [
    "Numpy broadcasting을 사용하면 이러한 작업을 다음과 같이 간단히 수행할 수 있다."
   ]
  },
  {
   "cell_type": "code",
   "execution_count": 15,
   "metadata": {},
   "outputs": [
    {
     "name": "stdout",
     "output_type": "stream",
     "text": [
      "[[ 2  2  4]\n",
      " [ 5  5  7]\n",
      " [ 8  8 10]\n",
      " [11 11 13]]\n"
     ]
    }
   ],
   "source": [
    "import numpy as np\n",
    "\n",
    "x = np.array([[1, 2, 3], [4, 5, 6], [7, 8, 9], [10, 11, 12]])\n",
    "v = np.array([1, 0, 1])\n",
    "\n",
    "y = x + v\n",
    "print(y)"
   ]
  },
  {
   "cell_type": "markdown",
   "metadata": {},
   "source": [
    "위의 `y = x + v`에서 일어난 broadcasting은 `v`가 `x`와 같은 크기를 가지고 각 행이 `v`로 구성된 것처럼 동작하였다.\n",
    "\n",
    "두 행렬의 broadcasting은 다음의 규칙을 따른다.\n",
    "1. 두 행렬이 같은 rank를 가지지 않으면, 두 행렬의 shape가 같은 길이를 가질 때까지 낮은 rank인 행렬에 1씩 추가한다.\n",
    "2. 만약 두 행렬이 같은 크기의 차원을 가지거나 한 행렬이 1의 크기의 차원을 가지면, 두 행렬은 해당 차원에서 compatible하다고 한다.\n",
    "3. 만약 두 행렬이 모든 차원에서 compatible하다면, 두 행렬은 같이 broadcasting될 수 있다.\n",
    "4. Broadcasting이 일어나면, 두 행렬의 shape 중 최대 값으로 이루어진 shape를 가지게 된다.\n",
    "5. 모든 차원에 대해서 한 행렬이 1의 크기를 가지고, 다른 행렬이 1보다 큰 크기를 가질 경우, 1보다 큰 크기를 가지도록 해당 차원을 기준으로 복사된다. (앞의 예제에서 `y = x + v`)\n",
    "\n",
    "위의 규칙에 대한 자세한 내용은 [문서](http://docs.scipy.org/doc/numpy/user/basics.broadcasting.html)를 참고하자."
   ]
  },
  {
   "cell_type": "markdown",
   "metadata": {},
   "source": [
    "Broadcasting을 지원하는 function들은 universal functions라고 한다. universal function에 대한 자세한 내용은 [문서](https://docs.scipy.org/doc/numpy/reference/ufuncs.html#available-ufuncs)를 참고하자."
   ]
  },
  {
   "cell_type": "markdown",
   "metadata": {},
   "source": [
    "다음은 broadcasting의 몇가지 응용 예이다."
   ]
  },
  {
   "cell_type": "code",
   "execution_count": 16,
   "metadata": {},
   "outputs": [
    {
     "name": "stdout",
     "output_type": "stream",
     "text": [
      "[[ 4  5]\n",
      " [ 8 10]\n",
      " [12 15]]\n",
      "\n",
      "[[2 4 6]\n",
      " [5 7 9]]\n",
      "\n",
      "[[ 5  6  7]\n",
      " [ 9 10 11]]\n",
      "[[ 5  6  7]\n",
      " [ 9 10 11]]\n",
      "\n",
      "[[ 2  4  6]\n",
      " [ 8 10 12]]\n"
     ]
    }
   ],
   "source": [
    "import numpy as np\n",
    "\n",
    "# 두 벡터의 외적\n",
    "v = np.array([1, 2, 3])\n",
    "w = np.array([4, 5])\n",
    "\n",
    "# 1. Reshape v : (3,) -> (3,1) \n",
    "# 2. Broadcast w : (2,) -> (3,2) (행 복사됨)\n",
    "# 3. Broadcast v : (3,1) -> (3,2) (열 복사됨)\n",
    "# 4. Elementwise v*w\n",
    "print(np.reshape(v, (3,1)) * w)\n",
    "print('')\n",
    "\n",
    "\n",
    "# 행렬의 각 행에 벡터 더하기\n",
    "# 1. Broadcast v : (3,) -> (2, 3) : (행 복사됨)\n",
    "# 2. Elementwise x+v\n",
    "x = np.array([[1, 2, 3], [4, 5, 6]])\n",
    "\n",
    "print(x + v)\n",
    "print('')\n",
    "\n",
    "\n",
    "# 행렬의 각 열에 벡터 더하기 1\n",
    "# 1. Transpose x : (2,3) -> (3,2)\n",
    "# 2. Broadcast w : (2,) -> (3,2) (행 복사됨)\n",
    "# 3. Elementwise x+w\n",
    "# 4. Transpose x+w : (3,2) -> (2,3)\n",
    "print((x.T + w).T)\n",
    "\n",
    "# 행렬의 각 열에 벡터 더하기 2\n",
    "# 1. Reshape w : (2,) -> (2,1)\n",
    "# 2. Broadcast w : (2,1) -> (2,3) (열 복사됨)\n",
    "# 3. Elementwise x+w\n",
    "print(x + np.reshape(w, (2,1)))\n",
    "print('')\n",
    "\n",
    "\n",
    "# 행렬에 스칼라 값 곱하기\n",
    "# 1. Broadcast constant : () -> (2,3) (값이 모두 복사됨)\n",
    "# 2. Elementwise x*constant\n",
    "print(x * 2)"
   ]
  },
  {
   "cell_type": "markdown",
   "metadata": {},
   "source": [
    "## Numpy Documentation\n",
    "\n",
    "여기서는 numpy에서 중요한 것들만 간단히 다루었다. 더 자세한 내용은 [numpy reference](https://docs.scipy.org/doc/numpy/reference/)를 참고하자."
   ]
  }
 ],
 "metadata": {
  "kernelspec": {
   "display_name": "Python 3",
   "language": "python",
   "name": "python3"
  },
  "language_info": {
   "codemirror_mode": {
    "name": "ipython",
    "version": 3
   },
   "file_extension": ".py",
   "mimetype": "text/x-python",
   "name": "python",
   "nbconvert_exporter": "python",
   "pygments_lexer": "ipython3",
   "version": "3.7.6"
  }
 },
 "nbformat": 4,
 "nbformat_minor": 4
}
