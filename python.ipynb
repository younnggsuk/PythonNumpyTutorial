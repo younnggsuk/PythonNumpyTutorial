{
 "cells": [
  {
   "cell_type": "markdown",
   "metadata": {},
   "source": [
    "# Python\n",
    "\n",
    "파이썬은 고수준의 동적 다중 패러다임 프로그래밍 언어이다. 파이썬은 짧은 줄의 코드로 가독성이 좋게 강력한 아이디어를 표현할 수 있도록 해주므로 의사코드와 거의 같다고 불린다.\n",
    "\n",
    "다음 예제는 quicksort 알고리즘을 파이썬으로 구현한 예이다."
   ]
  },
  {
   "cell_type": "code",
   "execution_count": 1,
   "metadata": {},
   "outputs": [],
   "source": [
    "def quicksort(arr):\n",
    "    if len(arr) <= 1:\n",
    "        return arr\n",
    "    \n",
    "    pivot = arr[len(arr) // 2]\n",
    "    \n",
    "    left = [x for x in arr if x < pivot]\n",
    "    middle = [x for x in arr if x == pivot]\n",
    "    right = [x for x in arr if x > pivot]\n",
    "    \n",
    "    return quicksort(left) + middle + quicksort(right)\n",
    "\n",
    "print(quicksort([3, 6, 8, 10, 1, 2, 1]))"
   ]
  },
  {
   "cell_type": "markdown",
   "metadata": {},
   "source": [
    "## Basic data types\n",
    "다른 프로그래밍 언어처럼 파이썬은 integer, float, boolean, string 등의 기본 자료형이 있으며 다른 언어와 유사하게 동작한다.\n",
    "\n",
    "**Numbers:** interger, float는 다른 언어에서처럼 동작한다."
   ]
  },
  {
   "cell_type": "code",
   "execution_count": 2,
   "metadata": {},
   "outputs": [
    {
     "name": "stdout",
     "output_type": "stream",
     "text": [
      "3 <class 'int'>\n",
      "\n",
      "4 2 6 9\n",
      "\n",
      "4\n",
      "\n",
      "8\n",
      "\n",
      "2.5 <class 'float'>\n",
      "3.5 1.5 5.0 6.25\n"
     ]
    }
   ],
   "source": [
    "x = 3\n",
    "print(x, type(x))\n",
    "print('')\n",
    "\n",
    "print(x+1, x-1, x*2, x**2)\n",
    "print('')\n",
    "\n",
    "x += 1\n",
    "print(x)\n",
    "print('')\n",
    "\n",
    "x *= 2\n",
    "print(x)\n",
    "print('')\n",
    "\n",
    "y = 2.5\n",
    "print(y, type(y))\n",
    "print(y+1, y-1, y*2, y**2)"
   ]
  },
  {
   "cell_type": "markdown",
   "metadata": {},
   "source": [
    "다른 언어와 달리 파이썬에는 `++`, `--` 연산자가 존재하지 않는다.\n",
    "\n",
    "파이썬에는 복소수 자료형도 존재하는데 자세한 내용은 [문서](https://docs.python.org/3.5/library/stdtypes.html#numeric-types-int-float-complex)를 참고하자.\n",
    "\n",
    "**Boolean:** 파이썬의 Boolean logic은 부호(`&&`, `||`)가 아닌 영어단어이다."
   ]
  },
  {
   "cell_type": "code",
   "execution_count": 3,
   "metadata": {},
   "outputs": [
    {
     "name": "stdout",
     "output_type": "stream",
     "text": [
      "<class 'bool'>\n",
      "False\n",
      "True\n",
      "True\n",
      "True\n"
     ]
    }
   ],
   "source": [
    "t = True\n",
    "f = False\n",
    "print(type(t))\n",
    "\n",
    "# AND\n",
    "print(t and f)\n",
    "# OR\n",
    "print(t or f) \n",
    "# NOT\n",
    "print(not f)  \n",
    "# XOR\n",
    "print(t != f) "
   ]
  },
  {
   "cell_type": "markdown",
   "metadata": {},
   "source": [
    "**Strings:** 파이썬은 string에 다양한 기능을 제공한다."
   ]
  },
  {
   "cell_type": "code",
   "execution_count": 4,
   "metadata": {},
   "outputs": [
    {
     "name": "stdout",
     "output_type": "stream",
     "text": [
      "hello\n",
      "5\n",
      "hello world\n",
      "hello world 12\n"
     ]
    }
   ],
   "source": [
    "hello = 'hello'\n",
    "world = \"world\"\n",
    "print(hello)\n",
    "print(len(hello))\n",
    "\n",
    "hw = hello + ' ' + world\n",
    "print(hw)\n",
    "\n",
    "hw12 = '%s %s %d' % (hello, world, 12)\n",
    "print(hw12)"
   ]
  },
  {
   "cell_type": "markdown",
   "metadata": {},
   "source": [
    "String object에는 유용한 여러 method들이 있다."
   ]
  },
  {
   "cell_type": "code",
   "execution_count": 5,
   "metadata": {},
   "outputs": [
    {
     "name": "stdout",
     "output_type": "stream",
     "text": [
      "Hello\n",
      "HELLO\n",
      "  hello\n",
      " hello \n",
      "he(replaced)(replaced)o\n",
      "world\n"
     ]
    }
   ],
   "source": [
    "s = \"hello\"\n",
    "print(s.capitalize())\n",
    "print(s.upper())\n",
    "print(s.rjust(7))\n",
    "print(s.center(7))\n",
    "print(s.replace('l', '(replaced)'))\n",
    "\n",
    "print('   world  '.strip())"
   ]
  },
  {
   "cell_type": "markdown",
   "metadata": {},
   "source": [
    "전체 string method는 [문서](https://docs.python.org/3.5/library/stdtypes.html#string-methods)를 참고하자."
   ]
  },
  {
   "cell_type": "markdown",
   "metadata": {},
   "source": [
    "## Containers\n",
    "\n",
    "파이썬은 몇가지 컨테이너 자료형을 제공한다: lists, dictionaries, sets, tuples 등\n",
    "\n",
    "### Lists\n",
    "파이썬에서 list는 array와 동일하지만 크기를 변경할 수 있으며, 여러 자료형을 가질 수 있다."
   ]
  },
  {
   "cell_type": "code",
   "execution_count": 6,
   "metadata": {},
   "outputs": [
    {
     "name": "stdout",
     "output_type": "stream",
     "text": [
      "[3, 1, 2] 2 2\n",
      "[3, 1, 'foo']\n",
      "[3, 1, 'foo', 'bar']\n",
      "bar [3, 1, 'foo']\n"
     ]
    }
   ],
   "source": [
    "xs = [3, 1, 2]\n",
    "print(xs, xs[2], xs[-1])\n",
    "\n",
    "xs[2] = 'foo'\n",
    "print(xs)\n",
    "\n",
    "xs.append('bar')\n",
    "print(xs)\n",
    "\n",
    "x = xs.pop()\n",
    "print(x, xs)"
   ]
  },
  {
   "cell_type": "markdown",
   "metadata": {},
   "source": [
    "List의 자세한 내용은 [문서](https://docs.python.org/3.5/tutorial/datastructures.html#more-on-lists)를 참고하자.\n",
    "\n",
    "**Slicing:** 파이썬은 list의 element를 sublist로 접근하는 간결한 문법을 제공하는데 이를 slicing이라고한다."
   ]
  },
  {
   "cell_type": "code",
   "execution_count": 7,
   "metadata": {},
   "outputs": [
    {
     "name": "stdout",
     "output_type": "stream",
     "text": [
      "[0, 1, 2, 3, 4]\n",
      "[2, 3]\n",
      "[2, 3, 4]\n",
      "[0, 1]\n",
      "[0, 1, 2, 3, 4]\n",
      "[0, 1, 2, 3]\n",
      "[0, 1, 8, 9, 4]\n"
     ]
    }
   ],
   "source": [
    "nums = list(range(5))\n",
    "print(nums)\n",
    "\n",
    "print(nums[2:4])\n",
    "print(nums[2:])\n",
    "print(nums[:2])\n",
    "print(nums[:])\n",
    "print(nums[:-1])\n",
    "\n",
    "nums[2:4] = [8, 9]\n",
    "print(nums)"
   ]
  },
  {
   "cell_type": "markdown",
   "metadata": {},
   "source": [
    "**Loops:** 다음과 같이 loop를 사용해 list의 모든 element를 가져올 수 있다."
   ]
  },
  {
   "cell_type": "code",
   "execution_count": 8,
   "metadata": {},
   "outputs": [
    {
     "name": "stdout",
     "output_type": "stream",
     "text": [
      "cat\n",
      "dog\n",
      "monkey\n"
     ]
    }
   ],
   "source": [
    "animals = ['cat', 'dog', 'monkey']\n",
    "for animal in animals:\n",
    "    print(animal)"
   ]
  },
  {
   "cell_type": "markdown",
   "metadata": {},
   "source": [
    "`enumerate()`를 사용하면 loop내에서 index와 함께 element를 가져올 수 있다."
   ]
  },
  {
   "cell_type": "code",
   "execution_count": 9,
   "metadata": {},
   "outputs": [
    {
     "name": "stdout",
     "output_type": "stream",
     "text": [
      "#1 : cat\n",
      "#2 : dog\n",
      "#3 : monkey\n"
     ]
    }
   ],
   "source": [
    "animals = ['cat', 'dog', 'monkey']\n",
    "for idx, animal in enumerate(animals):\n",
    "    print('#%d : %s' % (idx+1, animal))"
   ]
  },
  {
   "cell_type": "markdown",
   "metadata": {},
   "source": [
    "**List comprehensions:** list의 모든 element에 어떠한 변환을 수행해야 할때, list comprehension을 사용하면 간결한 코드를 작성할 수 있다.\n",
    "\n",
    "square number를 계산하는 다음 예를 보자."
   ]
  },
  {
   "cell_type": "code",
   "execution_count": 10,
   "metadata": {},
   "outputs": [
    {
     "name": "stdout",
     "output_type": "stream",
     "text": [
      "[0, 1, 4, 9, 16]\n"
     ]
    }
   ],
   "source": [
    "nums = [0, 1, 2, 3, 4]\n",
    "squares = []\n",
    "\n",
    "for x in nums:\n",
    "    squares.append(x**2)\n",
    "    \n",
    "print(squares)"
   ]
  },
  {
   "cell_type": "markdown",
   "metadata": {},
   "source": [
    "위 코드는 list comprehension을 통해 다음와 같이 작성할 수 있다."
   ]
  },
  {
   "cell_type": "code",
   "execution_count": 11,
   "metadata": {},
   "outputs": [
    {
     "name": "stdout",
     "output_type": "stream",
     "text": [
      "[0, 1, 4, 9, 16]\n"
     ]
    }
   ],
   "source": [
    "nums = [0, 1, 2, 3, 4]\n",
    "squares = [x**2 for x in nums]\n",
    "    \n",
    "print(squares)"
   ]
  },
  {
   "cell_type": "markdown",
   "metadata": {},
   "source": [
    "List comprehension은 다음과 같이 조건문도 포함할 수 있다."
   ]
  },
  {
   "cell_type": "code",
   "execution_count": 12,
   "metadata": {},
   "outputs": [
    {
     "name": "stdout",
     "output_type": "stream",
     "text": [
      "[0, 4, 16]\n"
     ]
    }
   ],
   "source": [
    "nums = [0, 1, 2, 3, 4]\n",
    "squares = [x**2 for x in nums if x%2 == 0]\n",
    "    \n",
    "print(squares)"
   ]
  },
  {
   "cell_type": "markdown",
   "metadata": {},
   "source": [
    "### Dictionaries\n",
    "\n",
    "Dictionary는 (key, value)의 쌍을 저장한다."
   ]
  },
  {
   "cell_type": "code",
   "execution_count": 13,
   "metadata": {
    "scrolled": true
   },
   "outputs": [
    {
     "name": "stdout",
     "output_type": "stream",
     "text": [
      "cute\n",
      "\n",
      "True\n",
      "\n",
      "wet\n",
      "\n",
      "None\n",
      "default\n",
      "\n",
      "None\n"
     ]
    }
   ],
   "source": [
    "d = {'cat': 'cute', 'dog': 'furry'}\n",
    "print(d['cat'])\n",
    "print('')\n",
    "\n",
    "# key 검사\n",
    "print('cat' in d)\n",
    "print('')\n",
    "\n",
    "d['fish'] = 'wet'\n",
    "print(d['fish'])\n",
    "print('')\n",
    "\n",
    "# key가 없는 경우, None을 반환한다.\n",
    "print(d.get('monkey'))\n",
    "# key가 없는 경우에 반환할 값을 다음과 같이 지정할 수도 있다.\n",
    "print(d.get('monkey', 'default'))\n",
    "print('')\n",
    "\n",
    "del d['fish']\n",
    "print(d.get('fish'))"
   ]
  },
  {
   "cell_type": "markdown",
   "metadata": {},
   "source": [
    "Dictionary에 대한 자세한 내용은 [문서](https://docs.python.org/3.5/library/stdtypes.html#dict)를 참고하자.\n",
    "\n",
    "**Loops:** dictionary의 key는 다음과 같이 iteration 할 수 있다."
   ]
  },
  {
   "cell_type": "code",
   "execution_count": 14,
   "metadata": {},
   "outputs": [
    {
     "name": "stdout",
     "output_type": "stream",
     "text": [
      "A person has 2 legs\n",
      "A cat has 4 legs\n",
      "A spider has 8 legs\n"
     ]
    }
   ],
   "source": [
    "d = {'person':2, 'cat':4, 'spider':8}\n",
    "for animal in d:\n",
    "    legs = d[animal]\n",
    "    print(\"A %s has %d legs\" % (animal, legs))"
   ]
  },
  {
   "cell_type": "markdown",
   "metadata": {},
   "source": [
    "`items()`를 사용하면 key와 value를 함께 접근할 수 있다."
   ]
  },
  {
   "cell_type": "code",
   "execution_count": 15,
   "metadata": {},
   "outputs": [
    {
     "name": "stdout",
     "output_type": "stream",
     "text": [
      "A person has 2 legs\n",
      "A cat has 4 legs\n",
      "A spider has 8 legs\n"
     ]
    }
   ],
   "source": [
    "d = {'person':2, 'cat':4, 'spider':8}\n",
    "for animal, legs in d.items():\n",
    "    print(\"A %s has %d legs\" % (animal, legs))"
   ]
  },
  {
   "cell_type": "markdown",
   "metadata": {},
   "source": [
    "**Dictionary comprehensions:** list comprehension과 유사한 방법으로 다음과 같이 dictionary를 생성할 수 있다."
   ]
  },
  {
   "cell_type": "code",
   "execution_count": 16,
   "metadata": {},
   "outputs": [
    {
     "name": "stdout",
     "output_type": "stream",
     "text": [
      "{0: 0, 2: 4, 4: 16}\n"
     ]
    }
   ],
   "source": [
    "nums = [0, 1, 2, 3, 4]\n",
    "even_num_to_square = {x:x**2 for x in nums if x%2 == 0}\n",
    "print(even_num_to_square)"
   ]
  },
  {
   "cell_type": "markdown",
   "metadata": {},
   "source": [
    "### Sets\n",
    "Set은 중복과 순서가 없는 element의 collection이다."
   ]
  },
  {
   "cell_type": "code",
   "execution_count": 17,
   "metadata": {},
   "outputs": [
    {
     "name": "stdout",
     "output_type": "stream",
     "text": [
      "2 {'dog', 'cat'}\n",
      "\n",
      "True\n",
      "False\n",
      "\n",
      "{'dog', 'cat'}\n",
      "\n",
      "1 {'dog'}\n"
     ]
    }
   ],
   "source": [
    "animals = {'cat', 'dog'}\n",
    "print(len(animals), animals)\n",
    "print('')\n",
    "\n",
    "print('cat' in animals)\n",
    "print('fish' in animals)\n",
    "print('')\n",
    "\n",
    "animals.add('dog')\n",
    "print(animals)\n",
    "print('')\n",
    "\n",
    "animals.remove('cat')\n",
    "print(len(animals), animals)"
   ]
  },
  {
   "cell_type": "markdown",
   "metadata": {},
   "source": [
    "set에 대한 자세한 내용은 [문서](https://docs.python.org/3.5/library/stdtypes.html#set)를 참고하자.\n",
    "\n",
    "**Loops:** set은 list와 동일한 방식으로 iterating할 수 있지만 어떤 순서로 접근하게 될지 알 수 없다."
   ]
  },
  {
   "cell_type": "code",
   "execution_count": 18,
   "metadata": {},
   "outputs": [
    {
     "name": "stdout",
     "output_type": "stream",
     "text": [
      "#0: dog\n",
      "#1: cat\n",
      "#2: fish\n"
     ]
    }
   ],
   "source": [
    "animals = {'cat', 'dog', 'fish'}\n",
    "for idx, animal in enumerate(animals):\n",
    "    print('#%d: %s' % (idx, animal))"
   ]
  },
  {
   "cell_type": "markdown",
   "metadata": {},
   "source": [
    "**Set comprehensions:** list, dictionary처럼 set을 손쉽게 생성할 수 있다."
   ]
  },
  {
   "cell_type": "code",
   "execution_count": 19,
   "metadata": {},
   "outputs": [
    {
     "name": "stdout",
     "output_type": "stream",
     "text": [
      "{0, 1, 2, 3, 4, 5, 6, 7, 8, 9}\n"
     ]
    }
   ],
   "source": [
    "from math import sqrt\n",
    "\n",
    "nums = {int(sqrt(x)) for x in range(100)}\n",
    "print(nums)"
   ]
  },
  {
   "cell_type": "markdown",
   "metadata": {},
   "source": [
    "### Tuples\n",
    "\n",
    "Tuple은 값을 변경할 수 없는 순서있는 list이다.\n",
    "\n",
    "Tuple은 dictionary의 key와 set의 element가 될 수 있지만 list는 되지 못한다는 것이 중요한 차이점이다."
   ]
  },
  {
   "cell_type": "code",
   "execution_count": 20,
   "metadata": {},
   "outputs": [
    {
     "name": "stdout",
     "output_type": "stream",
     "text": [
      "{(0, 1): 0, (1, 2): 1, (2, 3): 2, (3, 4): 3, (4, 5): 4}\n",
      "\n",
      "4\n",
      "1\n"
     ]
    }
   ],
   "source": [
    "# tuple을 key로 하는 dictionary 생성 (list는 key가 될 수 없음)\n",
    "d = {(x, x+1):x for x in range(5)}\n",
    "print(d)\n",
    "print('')\n",
    "\n",
    "t = (4, 5)\n",
    "print(d[t])\n",
    "print(d[(1, 2)])"
   ]
  },
  {
   "cell_type": "markdown",
   "metadata": {},
   "source": [
    "Tuple의 자세한 내용은 [문서](https://docs.python.org/3.5/tutorial/datastructures.html#tuples-and-sequences)를 참고하자."
   ]
  },
  {
   "cell_type": "markdown",
   "metadata": {},
   "source": [
    "## Functions\n",
    "\n",
    "파이썬의 function은 `def`키워드를 통해 정의한다."
   ]
  },
  {
   "cell_type": "code",
   "execution_count": 21,
   "metadata": {},
   "outputs": [
    {
     "name": "stdout",
     "output_type": "stream",
     "text": [
      "negative\n",
      "zero\n",
      "positive\n"
     ]
    }
   ],
   "source": [
    "def sign(x):\n",
    "    if x > 0:\n",
    "        return 'positive'\n",
    "    elif x < 0:\n",
    "        return 'negative'\n",
    "    else:\n",
    "        return 'zero'\n",
    "    \n",
    "for x in [-1, 0, 1]:\n",
    "    print(sign(x))"
   ]
  },
  {
   "cell_type": "markdown",
   "metadata": {},
   "source": [
    "다음과 같이 선택적으로 argument를 받도록 정의할 수도 있다."
   ]
  },
  {
   "cell_type": "code",
   "execution_count": 22,
   "metadata": {},
   "outputs": [
    {
     "name": "stdout",
     "output_type": "stream",
     "text": [
      "Hello, Bob\n",
      "Hello, FRED\n"
     ]
    }
   ],
   "source": [
    "def hello(name, loud=False):\n",
    "    if loud:\n",
    "        print('Hello, %s' % name.upper())\n",
    "    else:\n",
    "        print('Hello, %s' % name)\n",
    "    \n",
    "    \n",
    "hello('Bob')\n",
    "hello('Fred', loud=True)"
   ]
  },
  {
   "cell_type": "markdown",
   "metadata": {},
   "source": [
    "Function에 대한 자세한 내용은 [문서](https://docs.python.org/3.5/tutorial/controlflow.html#defining-functions)를 참고하자."
   ]
  },
  {
   "cell_type": "markdown",
   "metadata": {},
   "source": [
    "## Classes\n",
    "\n",
    "파이썬의 class는 다음과 같이 간단히 정의할 수 있다."
   ]
  },
  {
   "cell_type": "code",
   "execution_count": 23,
   "metadata": {},
   "outputs": [
    {
     "name": "stdout",
     "output_type": "stream",
     "text": [
      "Hello, Bob\n",
      "Hello, BOB\n"
     ]
    }
   ],
   "source": [
    "# Python 2.x style\n",
    "# class Greeter(object):\n",
    "\n",
    "# Python 3.x style\n",
    "class Greeter:\n",
    "    def __init__(self, name):\n",
    "        self.name = name\n",
    "        \n",
    "    def greet(self, loud=False):\n",
    "        if loud:\n",
    "            print('Hello, %s' % self.name.upper())\n",
    "        else:\n",
    "            print('Hello, %s' % self.name)\n",
    "            \n",
    "            \n",
    "g = Greeter('Bob')\n",
    "g.greet()\n",
    "g.greet(loud=True)"
   ]
  },
  {
   "cell_type": "markdown",
   "metadata": {},
   "source": [
    "Class에 대한 자세한 내용은 [문서](https://docs.python.org/3.5/tutorial/classes.html)를 참고하자."
   ]
  }
 ],
 "metadata": {
  "kernelspec": {
   "display_name": "Python 3",
   "language": "python",
   "name": "python3"
  },
  "language_info": {
   "codemirror_mode": {
    "name": "ipython",
    "version": 3
   },
   "file_extension": ".py",
   "mimetype": "text/x-python",
   "name": "python",
   "nbconvert_exporter": "python",
   "pygments_lexer": "ipython3",
   "version": "3.7.6"
  }
 },
 "nbformat": 4,
 "nbformat_minor": 4
}
