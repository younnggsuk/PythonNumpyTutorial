{
 "cells": [
  {
   "cell_type": "markdown",
   "metadata": {},
   "source": [
    "# SciPy\n",
    "\n",
    "SciPy는 numpy를 빌드해서, numpy array에서 동작하는 다양한 과학 및 공학의 적용에 유용한 함수들을 제공한다.\n",
    "\n",
    "SciPy에 대한 자세한 내용은 [문서](https://docs.scipy.org/doc/scipy/reference/index.html)를 참고하면 되며, 여기서는 몇가지 유용한 기능을 다룬다."
   ]
  },
  {
   "cell_type": "markdown",
   "metadata": {},
   "source": [
    "## Image operations (생략)\n",
    "\n",
    "scipy.misc에 문서의 함수가 존재하지 않았음"
   ]
  },
  {
   "cell_type": "code",
   "execution_count": 1,
   "metadata": {
    "scrolled": true
   },
   "outputs": [
    {
     "name": "stdout",
     "output_type": "stream",
     "text": [
      "[]\n"
     ]
    }
   ],
   "source": [
    "from scipy import misc\n",
    "\n",
    "img_op_funcs = ['imread', 'imsave', 'imresize']\n",
    "\n",
    "print([x for x in dir(misc) if x in img_op_funcs])"
   ]
  },
  {
   "cell_type": "markdown",
   "metadata": {},
   "source": [
    "## Distance between points\n",
    "\n",
    "`scipy.spatial.distance`의 `pdist()`와 `squareform()`을 사용하면 점들간의 거리를 계산할 수 있다."
   ]
  },
  {
   "cell_type": "code",
   "execution_count": 2,
   "metadata": {
    "scrolled": false
   },
   "outputs": [
    {
     "name": "stdout",
     "output_type": "stream",
     "text": [
      "[[0.         1.41421356 2.23606798]\n",
      " [1.41421356 0.         1.        ]\n",
      " [2.23606798 1.         0.        ]]\n"
     ]
    }
   ],
   "source": [
    "import numpy as np\n",
    "from scipy.spatial.distance import cdist, pdist, squareform\n",
    "\n",
    "x = np.array([[0, 1], [1, 0], [2, 0]])\n",
    "\n",
    "# Euclidean distance 계산\n",
    "d = squareform(pdist(x, 'euclidean'))\n",
    "print(d)"
   ]
  },
  {
   "cell_type": "markdown",
   "metadata": {},
   "source": [
    "위 함수에 대한 자세한 내용은 [문서](http://docs.scipy.org/doc/scipy/reference/generated/scipy.spatial.distance.pdist.html)를 참고하자."
   ]
  },
  {
   "cell_type": "markdown",
   "metadata": {},
   "source": [
    "유사한 함수인 `scipy.spatial.distance.cdist`도 점들간의 거리 계산에 사용된다. 자세한 내용은 [문서](http://docs.scipy.org/doc/scipy/reference/generated/scipy.spatial.distance.cdist.html)를 참고하자."
   ]
  }
 ],
 "metadata": {
  "kernelspec": {
   "display_name": "Python 3",
   "language": "python",
   "name": "python3"
  },
  "language_info": {
   "codemirror_mode": {
    "name": "ipython",
    "version": 3
   },
   "file_extension": ".py",
   "mimetype": "text/x-python",
   "name": "python",
   "nbconvert_exporter": "python",
   "pygments_lexer": "ipython3",
   "version": "3.7.6"
  }
 },
 "nbformat": 4,
 "nbformat_minor": 4
}
